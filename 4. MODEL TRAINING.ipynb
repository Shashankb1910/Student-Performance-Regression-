{
 "cells": [
  {
   "cell_type": "markdown",
   "id": "25791a74",
   "metadata": {},
   "source": [
    "#### 1.1 Import Data and Required Packages\n",
    "##### Importing Pandas, Numpy, Matplotlib, Seaborn and Warings Library."
   ]
  },
  {
   "cell_type": "code",
   "execution_count": 40,
   "id": "b080dfb2",
   "metadata": {},
   "outputs": [],
   "source": [
    "# Basic Import\n",
    "import numpy as np\n",
    "import pandas as pd\n",
    "import matplotlib.pyplot as plt \n",
    "import seaborn as sns\n",
    "# Modelling\n",
    "from sklearn.model_selection import train_test_split\n",
    "from sklearn.metrics import mean_squared_error, r2_score\n",
    "\n",
    "from sklearn.compose import ColumnTransformer\n",
    "from sklearn.pipeline import Pipeline, make_pipeline\n",
    "from sklearn.neighbors import KNeighborsRegressor\n",
    "from sklearn.preprocessing import OneHotEncoder,PowerTransformer, StandardScaler, MinMaxScaler\n",
    "from sklearn.tree import DecisionTreeRegressor\n",
    "from sklearn.ensemble import RandomForestRegressor,AdaBoostRegressor\n",
    "from sklearn.svm import SVR\n",
    "from sklearn.model_selection import train_test_split\n",
    "from sklearn.linear_model import LinearRegression, Ridge,Lasso\n",
    "from sklearn.metrics import r2_score, mean_absolute_error\n",
    "from sklearn.model_selection import train_test_split,RandomizedSearchCV, GridSearchCV\n",
    "import pickle\n",
    "\n",
    "import warnings"
   ]
  },
  {
   "cell_type": "markdown",
   "id": "e45079ad",
   "metadata": {},
   "source": [
    "#### Import the CSV Data as Pandas DataFrame"
   ]
  },
  {
   "cell_type": "code",
   "execution_count": 41,
   "id": "e11c6255",
   "metadata": {},
   "outputs": [],
   "source": [
    "df = pd.read_csv('data/outlier_removed.csv')"
   ]
  },
  {
   "cell_type": "markdown",
   "id": "20634923",
   "metadata": {},
   "source": [
    "#### Show Top 5 Records"
   ]
  },
  {
   "cell_type": "code",
   "execution_count": 42,
   "id": "e7e412a2",
   "metadata": {},
   "outputs": [
    {
     "data": {
      "text/html": [
       "<div>\n",
       "<style scoped>\n",
       "    .dataframe tbody tr th:only-of-type {\n",
       "        vertical-align: middle;\n",
       "    }\n",
       "\n",
       "    .dataframe tbody tr th {\n",
       "        vertical-align: top;\n",
       "    }\n",
       "\n",
       "    .dataframe thead th {\n",
       "        text-align: right;\n",
       "    }\n",
       "</style>\n",
       "<table border=\"1\" class=\"dataframe\">\n",
       "  <thead>\n",
       "    <tr style=\"text-align: right;\">\n",
       "      <th></th>\n",
       "      <th>gender</th>\n",
       "      <th>race/ethnicity</th>\n",
       "      <th>parental level of education</th>\n",
       "      <th>lunch</th>\n",
       "      <th>test preparation course</th>\n",
       "      <th>math score</th>\n",
       "      <th>reading score</th>\n",
       "      <th>writing score</th>\n",
       "      <th>total score</th>\n",
       "      <th>average</th>\n",
       "    </tr>\n",
       "  </thead>\n",
       "  <tbody>\n",
       "    <tr>\n",
       "      <th>0</th>\n",
       "      <td>female</td>\n",
       "      <td>group B</td>\n",
       "      <td>bachelor's degree</td>\n",
       "      <td>standard</td>\n",
       "      <td>none</td>\n",
       "      <td>72</td>\n",
       "      <td>72</td>\n",
       "      <td>74</td>\n",
       "      <td>218</td>\n",
       "      <td>72.67</td>\n",
       "    </tr>\n",
       "    <tr>\n",
       "      <th>1</th>\n",
       "      <td>female</td>\n",
       "      <td>group C</td>\n",
       "      <td>some college</td>\n",
       "      <td>standard</td>\n",
       "      <td>completed</td>\n",
       "      <td>69</td>\n",
       "      <td>90</td>\n",
       "      <td>88</td>\n",
       "      <td>247</td>\n",
       "      <td>82.33</td>\n",
       "    </tr>\n",
       "    <tr>\n",
       "      <th>2</th>\n",
       "      <td>female</td>\n",
       "      <td>group B</td>\n",
       "      <td>master's degree</td>\n",
       "      <td>standard</td>\n",
       "      <td>none</td>\n",
       "      <td>90</td>\n",
       "      <td>95</td>\n",
       "      <td>93</td>\n",
       "      <td>278</td>\n",
       "      <td>92.67</td>\n",
       "    </tr>\n",
       "    <tr>\n",
       "      <th>3</th>\n",
       "      <td>male</td>\n",
       "      <td>group A</td>\n",
       "      <td>associate's degree</td>\n",
       "      <td>free/reduced</td>\n",
       "      <td>none</td>\n",
       "      <td>47</td>\n",
       "      <td>57</td>\n",
       "      <td>44</td>\n",
       "      <td>148</td>\n",
       "      <td>49.33</td>\n",
       "    </tr>\n",
       "    <tr>\n",
       "      <th>4</th>\n",
       "      <td>male</td>\n",
       "      <td>group C</td>\n",
       "      <td>some college</td>\n",
       "      <td>standard</td>\n",
       "      <td>none</td>\n",
       "      <td>76</td>\n",
       "      <td>78</td>\n",
       "      <td>75</td>\n",
       "      <td>229</td>\n",
       "      <td>76.33</td>\n",
       "    </tr>\n",
       "  </tbody>\n",
       "</table>\n",
       "</div>"
      ],
      "text/plain": [
       "   gender race/ethnicity parental level of education         lunch  \\\n",
       "0  female        group B           bachelor's degree      standard   \n",
       "1  female        group C                some college      standard   \n",
       "2  female        group B             master's degree      standard   \n",
       "3    male        group A          associate's degree  free/reduced   \n",
       "4    male        group C                some college      standard   \n",
       "\n",
       "  test preparation course  math score  reading score  writing score  \\\n",
       "0                    none          72             72             74   \n",
       "1               completed          69             90             88   \n",
       "2                    none          90             95             93   \n",
       "3                    none          47             57             44   \n",
       "4                    none          76             78             75   \n",
       "\n",
       "   total score  average  \n",
       "0          218    72.67  \n",
       "1          247    82.33  \n",
       "2          278    92.67  \n",
       "3          148    49.33  \n",
       "4          229    76.33  "
      ]
     },
     "execution_count": 42,
     "metadata": {},
     "output_type": "execute_result"
    }
   ],
   "source": [
    "df.head()"
   ]
  },
  {
   "cell_type": "markdown",
   "id": "4c94f8cd",
   "metadata": {},
   "source": [
    "#### droping total score columns, As was showing multicollineariy with average"
   ]
  },
  {
   "cell_type": "code",
   "execution_count": 43,
   "id": "1c0ece58",
   "metadata": {},
   "outputs": [],
   "source": [
    "df.drop(columns=['total score'], inplace=True)"
   ]
  },
  {
   "cell_type": "markdown",
   "id": "fbd32281",
   "metadata": {},
   "source": [
    "#### Preparing X and Y variables"
   ]
  },
  {
   "cell_type": "code",
   "execution_count": 44,
   "id": "56d72fde",
   "metadata": {},
   "outputs": [],
   "source": [
    "X = df.drop(columns=['average'],axis=1)"
   ]
  },
  {
   "cell_type": "code",
   "execution_count": 45,
   "id": "924b7f9d",
   "metadata": {},
   "outputs": [],
   "source": [
    "y = df['average']"
   ]
  },
  {
   "cell_type": "code",
   "execution_count": 46,
   "id": "60d9a2d4",
   "metadata": {},
   "outputs": [
    {
     "data": {
      "text/plain": [
       "['math score', 'reading score', 'writing score']"
      ]
     },
     "execution_count": 46,
     "metadata": {},
     "output_type": "execute_result"
    }
   ],
   "source": [
    "num_features = [feature for feature in X.columns if X[feature].dtype != 'O']\n",
    "num_features"
   ]
  },
  {
   "cell_type": "code",
   "execution_count": 47,
   "id": "1e290fe3",
   "metadata": {},
   "outputs": [
    {
     "data": {
      "text/plain": [
       "['gender',\n",
       " 'race/ethnicity',\n",
       " 'parental level of education',\n",
       " 'lunch',\n",
       " 'test preparation course']"
      ]
     },
     "execution_count": 47,
     "metadata": {},
     "output_type": "execute_result"
    }
   ],
   "source": [
    "ohe_columns = ['gender', 'race/ethnicity', 'parental level of education', 'lunch',\n",
    "       'test preparation course']\n",
    "ohe_columns"
   ]
  },
  {
   "cell_type": "code",
   "execution_count": 48,
   "id": "9c68f99a",
   "metadata": {},
   "outputs": [],
   "source": [
    "scale = ColumnTransformer(transformers=[\n",
    "    ('scale', StandardScaler(),slice(0,11))\n",
    "],remainder='passthrough')\n",
    "tnf = ColumnTransformer(transformers=[\n",
    "    ('ohe', OneHotEncoder(sparse=False, drop= 'first'),[0,1,2,3,4])\n",
    "],remainder='passthrough')"
   ]
  },
  {
   "cell_type": "markdown",
   "id": "4cd80317",
   "metadata": {},
   "source": [
    "#### Using Linear Regression"
   ]
  },
  {
   "cell_type": "code",
   "execution_count": 49,
   "id": "d0e93e01",
   "metadata": {},
   "outputs": [
    {
     "name": "stdout",
     "output_type": "stream",
     "text": [
      "R2 SCORE 1.0\n",
      "MAE 9.452756038237047e-15\n"
     ]
    }
   ],
   "source": [
    "X_train, X_test, y_train, y_test = train_test_split(X, y, train_size=0.3, random_state=198)\n",
    "pipe = Pipeline([\n",
    "        ('tnf',tnf),\n",
    "        ('scale',scale),\n",
    "        ('model',LinearRegression(fit_intercept=True))\n",
    "    ])\n",
    "pipe.fit(X_train, y_train)\n",
    "y_pred = pipe.predict(X_test)\n",
    "print('R2 SCORE', r2_score(y_test,y_pred))\n",
    "print('MAE', mean_absolute_error(y_test,y_pred))"
   ]
  },
  {
   "cell_type": "markdown",
   "id": "f252cd73",
   "metadata": {},
   "source": [
    "#### Using Ridge Regression"
   ]
  },
  {
   "cell_type": "code",
   "execution_count": 50,
   "id": "4c2740ba",
   "metadata": {},
   "outputs": [
    {
     "name": "stdout",
     "output_type": "stream",
     "text": [
      "Model performance for Training set\n",
      "R2: 1.0000\n",
      "MAE: 0.0001\n",
      " \n",
      "Model performance for Test set\n",
      "R2: 1.0000\n",
      "MAE : 0.0001\n"
     ]
    }
   ],
   "source": [
    "X_train, X_test, y_train, y_test = train_test_split(X, y, train_size=0.3, random_state=198)\n",
    "pipe = Pipeline([\n",
    "        ('tnf',tnf),\n",
    "        ('scale',scale),\n",
    "        ('model',Ridge(fit_intercept=True))\n",
    "    ])\n",
    "pipe.fit(X_train, y_train)\n",
    "# Make predictions\n",
    "y_train_pred = pipe.predict(X_train)\n",
    "y_test_pred = pipe.predict(X_test)\n",
    "# Training set performance\n",
    "model_train_r2score = r2_score(y_train, y_train_pred) # Calculate r2score\n",
    "model_train_mae = mean_absolute_error(y_train, y_train_pred) # Calculate MAE\n",
    "\n",
    "# Test set performance\n",
    "model_test_r2score = r2_score(y_test, y_test_pred) # Calculate r2score\n",
    "model_test_mae = mean_absolute_error(y_test, y_test_pred) # Calculate MAE\n",
    "\n",
    "  \n",
    "print('Model performance for Training set')\n",
    "print(\"R2: {:.4f}\".format(model_train_r2score))\n",
    "print(\"MAE: {:.4f}\".format(model_train_mae))\n",
    "print(\" \")\n",
    "\n",
    "print('Model performance for Test set')\n",
    "print(\"R2: {:.4f}\".format(model_test_r2score))\n",
    "print(\"MAE : {:.4f}\".format(model_test_mae))"
   ]
  },
  {
   "cell_type": "markdown",
   "id": "7d85dd91",
   "metadata": {},
   "source": [
    "#### Using Lasso Regression"
   ]
  },
  {
   "cell_type": "code",
   "execution_count": 51,
   "id": "93307a36",
   "metadata": {},
   "outputs": [
    {
     "name": "stdout",
     "output_type": "stream",
     "text": [
      "Model performance for Training set\n",
      "R2: 1.0000\n",
      "MAE: 0.0600\n",
      " \n",
      "Model performance for Test set\n",
      "R2: 1.0000\n",
      "MAE : 0.0601\n"
     ]
    }
   ],
   "source": [
    "X_train, X_test, y_train, y_test = train_test_split(X, y, train_size=0.3, random_state=728)\n",
    "pipe = Pipeline([\n",
    "        ('tnf',tnf),\n",
    "        ('scale',scale),\n",
    "        ('model',Lasso(fit_intercept=True))\n",
    "    ])\n",
    "pipe.fit(X_train, y_train)\n",
    "\n",
    "# Make predictions\n",
    "y_train_pred = pipe.predict(X_train)\n",
    "y_test_pred = pipe.predict(X_test)\n",
    "# Training set performance\n",
    "model_train_r2score = r2_score(y_train, y_train_pred) # Calculate r2score\n",
    "model_train_mae = mean_absolute_error(y_train, y_train_pred) # Calculate MAE\n",
    "\n",
    "# Test set performance\n",
    "model_test_r2score = r2_score(y_test, y_test_pred) # Calculate r2score\n",
    "model_test_mae = mean_absolute_error(y_test, y_test_pred) # Calculate MAE\n",
    "\n",
    "  \n",
    "print('Model performance for Training set')\n",
    "print(\"R2: {:.4f}\".format(model_train_r2score))\n",
    "print(\"MAE: {:.4f}\".format(model_train_mae))\n",
    "print(\" \")\n",
    "\n",
    "print('Model performance for Test set')\n",
    "print(\"R2: {:.4f}\".format(model_test_r2score))\n",
    "print(\"MAE : {:.4f}\".format(model_test_mae))"
   ]
  },
  {
   "cell_type": "markdown",
   "id": "bae05e68",
   "metadata": {},
   "source": [
    "#### Using Support Vecor Regression"
   ]
  },
  {
   "cell_type": "code",
   "execution_count": 52,
   "id": "3cdc0fee",
   "metadata": {},
   "outputs": [
    {
     "name": "stdout",
     "output_type": "stream",
     "text": [
      "Model performance for Training set\n",
      "R2: 1.0000\n",
      "MAE: 0.0181\n",
      " \n",
      "Model performance for Test set\n",
      "R2: 1.0000\n",
      "MAE : 0.0177\n"
     ]
    }
   ],
   "source": [
    "X_train, X_test, y_train, y_test = train_test_split(X, y, train_size=0.3, random_state=480)\n",
    "pipe = Pipeline([\n",
    "        ('tnf',tnf),\n",
    "        ('scale',scale),\n",
    "        ('model',SVR(C=1,kernel='linear',gamma='auto',max_iter=54))\n",
    "    ])\n",
    "pipe.fit(X_train, y_train)\n",
    "# Make predictions\n",
    "y_train_pred = pipe.predict(X_train)\n",
    "y_test_pred = pipe.predict(X_test)\n",
    "# Training set performance\n",
    "model_train_r2score = r2_score(y_train, y_train_pred) # Calculate r2score\n",
    "model_train_mae = mean_absolute_error(y_train, y_train_pred) # Calculate MAE\n",
    "\n",
    "# Test set performance\n",
    "model_test_r2score = r2_score(y_test, y_test_pred) # Calculate r2score\n",
    "model_test_mae = mean_absolute_error(y_test, y_test_pred) # Calculate MAE\n",
    "\n",
    "  \n",
    "print('Model performance for Training set')\n",
    "print(\"R2: {:.4f}\".format(model_train_r2score))\n",
    "print(\"MAE: {:.4f}\".format(model_train_mae))\n",
    "print(\" \")\n",
    "\n",
    "print('Model performance for Test set')\n",
    "print(\"R2: {:.4f}\".format(model_test_r2score))\n",
    "print(\"MAE : {:.4f}\".format(model_test_mae))"
   ]
  },
  {
   "cell_type": "markdown",
   "id": "8ddc5dd5",
   "metadata": {},
   "source": [
    "#### Using KNeighborsRegressor"
   ]
  },
  {
   "cell_type": "code",
   "execution_count": 53,
   "id": "e876b968",
   "metadata": {},
   "outputs": [
    {
     "name": "stdout",
     "output_type": "stream",
     "text": [
      "Model performance for Training set\n",
      "R2: 0.9972\n",
      "MAE: 0.5027\n",
      " \n",
      "Model performance for Test set\n",
      "R2: 0.9861\n",
      "MAE : 0.7432\n"
     ]
    }
   ],
   "source": [
    "X_train, X_test, y_train, y_test = train_test_split(X, y, train_size=0.3, random_state=458)\n",
    "pipe = Pipeline([\n",
    "        ('tnf',tnf),\n",
    "        ('scale',scale),\n",
    "        ('model',KNeighborsRegressor())\n",
    "    ])\n",
    "pipe.fit(X_train, y_train)\n",
    "# Make predictions\n",
    "y_train_pred = pipe.predict(X_train)\n",
    "y_test_pred = pipe.predict(X_test)\n",
    "# Training set performance\n",
    "model_train_r2score = r2_score(y_train, y_train_pred) # Calculate r2score\n",
    "model_train_mae = mean_absolute_error(y_train, y_train_pred) # Calculate MAE\n",
    "\n",
    "# Test set performance\n",
    "model_test_r2score = r2_score(y_test, y_test_pred) # Calculate r2score\n",
    "model_test_mae = mean_absolute_error(y_test, y_test_pred) # Calculate MAE\n",
    "\n",
    "  \n",
    "print('Model performance for Training set')\n",
    "print(\"R2: {:.4f}\".format(model_train_r2score))\n",
    "print(\"MAE: {:.4f}\".format(model_train_mae))\n",
    "print(\" \")\n",
    "\n",
    "print('Model performance for Test set')\n",
    "print(\"R2: {:.4f}\".format(model_test_r2score))\n",
    "print(\"MAE : {:.4f}\".format(model_test_mae))"
   ]
  },
  {
   "cell_type": "markdown",
   "id": "30251293",
   "metadata": {},
   "source": [
    "#### Using DecisionTreeRegressor"
   ]
  },
  {
   "cell_type": "code",
   "execution_count": 54,
   "id": "ba70e224",
   "metadata": {},
   "outputs": [
    {
     "name": "stdout",
     "output_type": "stream",
     "text": [
      "Model performance for Training set\n",
      "R2: 1.0000\n",
      "MAE: 0.0000\n",
      " \n",
      "Model performance for Test set\n",
      "R2: 0.9764\n",
      "MAE : 1.5943\n"
     ]
    }
   ],
   "source": [
    "X_train, X_test, y_train, y_test = train_test_split(X, y, train_size=0.3, random_state=657)\n",
    "pipe = Pipeline([\n",
    "        ('tnf',tnf),\n",
    "        ('scale',scale),\n",
    "        ('model',DecisionTreeRegressor())\n",
    "    ])\n",
    "pipe.fit(X_train, y_train)\n",
    "# Make predictions\n",
    "y_train_pred = pipe.predict(X_train)\n",
    "y_test_pred = pipe.predict(X_test)\n",
    "# Training set performance\n",
    "model_train_r2score = r2_score(y_train, y_train_pred) # Calculate r2score\n",
    "model_train_mae = mean_absolute_error(y_train, y_train_pred) # Calculate MAE\n",
    "\n",
    "# Test set performance\n",
    "model_test_r2score = r2_score(y_test, y_test_pred) # Calculate r2score\n",
    "model_test_mae = mean_absolute_error(y_test, y_test_pred) # Calculate MAE\n",
    "\n",
    "  \n",
    "print('Model performance for Training set')\n",
    "print(\"R2: {:.4f}\".format(model_train_r2score))\n",
    "print(\"MAE: {:.4f}\".format(model_train_mae))\n",
    "print(\" \")\n",
    "\n",
    "print('Model performance for Test set')\n",
    "print(\"R2: {:.4f}\".format(model_test_r2score))\n",
    "print(\"MAE : {:.4f}\".format(model_test_mae))"
   ]
  },
  {
   "cell_type": "markdown",
   "id": "686c48bc",
   "metadata": {},
   "source": [
    "#### Using RandomForestRegressor"
   ]
  },
  {
   "cell_type": "code",
   "execution_count": 55,
   "id": "48225a0d",
   "metadata": {},
   "outputs": [
    {
     "name": "stdout",
     "output_type": "stream",
     "text": [
      "Model performance for Training set\n",
      "R2: 0.9983\n",
      "MAE: 0.3233\n",
      " \n",
      "Model performance for Test set\n",
      "R2: 0.9940\n",
      "MAE : 0.7400\n"
     ]
    }
   ],
   "source": [
    "X_train, X_test, y_train, y_test = train_test_split(X, y, train_size=0.3, random_state=256)\n",
    "pipe = Pipeline([\n",
    "        ('tnf',tnf),\n",
    "        ('scale',scale),\n",
    "        ('model',RandomForestRegressor())\n",
    "    ])\n",
    "pipe.fit(X_train, y_train)\n",
    "# Make predictions\n",
    "y_train_pred = pipe.predict(X_train)\n",
    "y_test_pred = pipe.predict(X_test)\n",
    "# Training set performance\n",
    "model_train_r2score = r2_score(y_train, y_train_pred) # Calculate r2score\n",
    "model_train_mae = mean_absolute_error(y_train, y_train_pred) # Calculate MAE\n",
    "\n",
    "# Test set performance\n",
    "model_test_r2score = r2_score(y_test, y_test_pred) # Calculate r2score\n",
    "model_test_mae = mean_absolute_error(y_test, y_test_pred) # Calculate MAE\n",
    "\n",
    "  \n",
    "print('Model performance for Training set')\n",
    "print(\"R2: {:.4f}\".format(model_train_r2score))\n",
    "print(\"MAE: {:.4f}\".format(model_train_mae))\n",
    "print(\" \")\n",
    "\n",
    "print('Model performance for Test set')\n",
    "print(\"R2: {:.4f}\".format(model_test_r2score))\n",
    "print(\"MAE : {:.4f}\".format(model_test_mae))"
   ]
  },
  {
   "cell_type": "markdown",
   "id": "778890f6",
   "metadata": {},
   "source": [
    "####  Save the trained model as a pickle file."
   ]
  },
  {
   "cell_type": "code",
   "execution_count": 58,
   "id": "522b5bc4",
   "metadata": {},
   "outputs": [],
   "source": [
    "import pickle\n",
    "\n",
    "pickle.dump(pipe, open('models/model.pkl', 'wb'))"
   ]
  },
  {
   "cell_type": "markdown",
   "id": "923efe22",
   "metadata": {},
   "source": [
    "#### Preparing data to create batch prediction"
   ]
  },
  {
   "cell_type": "code",
   "execution_count": 59,
   "id": "0d6dd95f",
   "metadata": {},
   "outputs": [],
   "source": [
    "import json\n",
    "result = X_test.to_json(orient=\"records\")\n",
    "parsed = json.loads(result)"
   ]
  },
  {
   "cell_type": "markdown",
   "id": "46218640",
   "metadata": {},
   "source": [
    "#### Initiating databse connection"
   ]
  },
  {
   "cell_type": "code",
   "execution_count": 74,
   "id": "01d372bb",
   "metadata": {},
   "outputs": [],
   "source": [
    "import pymongo\n",
    "client = pymongo.MongoClient(\"mongodb+srv://sbadgujar1019:<password>0@cluster0.nkgkcn8.mongodb.net/\") #create your own and change password"
   ]
  },
  {
   "cell_type": "markdown",
   "id": "8528ebe2",
   "metadata": {},
   "source": [
    "#### Checking database name"
   ]
  },
  {
   "cell_type": "code",
   "execution_count": 75,
   "id": "0a21d030",
   "metadata": {},
   "outputs": [
    {
     "name": "stdout",
     "output_type": "stream",
     "text": [
      "Database(MongoClient(host=['ac-r0u5u1n-shard-00-01.nkgkcn8.mongodb.net:27017', 'ac-r0u5u1n-shard-00-02.nkgkcn8.mongodb.net:27017', 'ac-r0u5u1n-shard-00-00.nkgkcn8.mongodb.net:27017'], document_class=dict, tz_aware=False, connect=True, authsource='admin', replicaset='atlas-848xj7-shard-0', tls=True), 'batch_data')\n"
     ]
    }
   ],
   "source": [
    "db = client.batch_data\n",
    "print(db)"
   ]
  },
  {
   "cell_type": "markdown",
   "id": "105206ec",
   "metadata": {},
   "source": [
    "#### Creating student batch data collection"
   ]
  },
  {
   "cell_type": "code",
   "execution_count": 76,
   "id": "095d8d88",
   "metadata": {},
   "outputs": [],
   "source": [
    "coll = db['student performance']"
   ]
  },
  {
   "cell_type": "code",
   "execution_count": 77,
   "id": "0066373c",
   "metadata": {},
   "outputs": [
    {
     "data": {
      "text/plain": [
       "[]"
      ]
     },
     "execution_count": 77,
     "metadata": {},
     "output_type": "execute_result"
    }
   ],
   "source": [
    "db.list_collection_names()"
   ]
  },
  {
   "cell_type": "markdown",
   "id": "4d742b03",
   "metadata": {},
   "source": [
    "#### Inserting all records in database"
   ]
  },
  {
   "cell_type": "code",
   "execution_count": 78,
   "id": "b8055a4c",
   "metadata": {},
   "outputs": [
    {
     "data": {
      "text/plain": [
       "InsertManyResult([ObjectId('65ec3171c7508c3663498cc9'), ObjectId('65ec3171c7508c3663498cca'), ObjectId('65ec3171c7508c3663498ccb'), ObjectId('65ec3171c7508c3663498ccc'), ObjectId('65ec3171c7508c3663498ccd'), ObjectId('65ec3171c7508c3663498cce'), ObjectId('65ec3171c7508c3663498ccf'), ObjectId('65ec3171c7508c3663498cd0'), ObjectId('65ec3171c7508c3663498cd1'), ObjectId('65ec3171c7508c3663498cd2'), ObjectId('65ec3171c7508c3663498cd3'), ObjectId('65ec3171c7508c3663498cd4'), ObjectId('65ec3171c7508c3663498cd5'), ObjectId('65ec3171c7508c3663498cd6'), ObjectId('65ec3171c7508c3663498cd7'), ObjectId('65ec3171c7508c3663498cd8'), ObjectId('65ec3171c7508c3663498cd9'), ObjectId('65ec3171c7508c3663498cda'), ObjectId('65ec3171c7508c3663498cdb'), ObjectId('65ec3171c7508c3663498cdc'), ObjectId('65ec3171c7508c3663498cdd'), ObjectId('65ec3171c7508c3663498cde'), ObjectId('65ec3171c7508c3663498cdf'), ObjectId('65ec3171c7508c3663498ce0'), ObjectId('65ec3171c7508c3663498ce1'), ObjectId('65ec3171c7508c3663498ce2'), ObjectId('65ec3171c7508c3663498ce3'), ObjectId('65ec3171c7508c3663498ce4'), ObjectId('65ec3171c7508c3663498ce5'), ObjectId('65ec3171c7508c3663498ce6'), ObjectId('65ec3171c7508c3663498ce7'), ObjectId('65ec3171c7508c3663498ce8'), ObjectId('65ec3171c7508c3663498ce9'), ObjectId('65ec3171c7508c3663498cea'), ObjectId('65ec3171c7508c3663498ceb'), ObjectId('65ec3171c7508c3663498cec'), ObjectId('65ec3171c7508c3663498ced'), ObjectId('65ec3171c7508c3663498cee'), ObjectId('65ec3171c7508c3663498cef'), ObjectId('65ec3171c7508c3663498cf0'), ObjectId('65ec3171c7508c3663498cf1'), ObjectId('65ec3171c7508c3663498cf2'), ObjectId('65ec3171c7508c3663498cf3'), ObjectId('65ec3171c7508c3663498cf4'), ObjectId('65ec3171c7508c3663498cf5'), ObjectId('65ec3171c7508c3663498cf6'), ObjectId('65ec3171c7508c3663498cf7'), ObjectId('65ec3171c7508c3663498cf8'), ObjectId('65ec3171c7508c3663498cf9'), ObjectId('65ec3171c7508c3663498cfa'), ObjectId('65ec3171c7508c3663498cfb'), ObjectId('65ec3171c7508c3663498cfc'), ObjectId('65ec3171c7508c3663498cfd'), ObjectId('65ec3171c7508c3663498cfe'), ObjectId('65ec3171c7508c3663498cff'), ObjectId('65ec3171c7508c3663498d00'), ObjectId('65ec3171c7508c3663498d01'), ObjectId('65ec3171c7508c3663498d02'), ObjectId('65ec3171c7508c3663498d03'), ObjectId('65ec3171c7508c3663498d04'), ObjectId('65ec3171c7508c3663498d05'), ObjectId('65ec3171c7508c3663498d06'), ObjectId('65ec3171c7508c3663498d07'), ObjectId('65ec3171c7508c3663498d08'), ObjectId('65ec3171c7508c3663498d09'), ObjectId('65ec3171c7508c3663498d0a'), ObjectId('65ec3171c7508c3663498d0b'), ObjectId('65ec3171c7508c3663498d0c'), ObjectId('65ec3171c7508c3663498d0d'), ObjectId('65ec3171c7508c3663498d0e'), ObjectId('65ec3171c7508c3663498d0f'), ObjectId('65ec3171c7508c3663498d10'), ObjectId('65ec3171c7508c3663498d11'), ObjectId('65ec3171c7508c3663498d12'), ObjectId('65ec3171c7508c3663498d13'), ObjectId('65ec3171c7508c3663498d14'), ObjectId('65ec3171c7508c3663498d15'), ObjectId('65ec3171c7508c3663498d16'), ObjectId('65ec3171c7508c3663498d17'), ObjectId('65ec3171c7508c3663498d18'), ObjectId('65ec3171c7508c3663498d19'), ObjectId('65ec3171c7508c3663498d1a'), ObjectId('65ec3171c7508c3663498d1b'), ObjectId('65ec3171c7508c3663498d1c'), ObjectId('65ec3171c7508c3663498d1d'), ObjectId('65ec3171c7508c3663498d1e'), ObjectId('65ec3171c7508c3663498d1f'), ObjectId('65ec3171c7508c3663498d20'), ObjectId('65ec3171c7508c3663498d21'), ObjectId('65ec3171c7508c3663498d22'), ObjectId('65ec3171c7508c3663498d23'), ObjectId('65ec3171c7508c3663498d24'), ObjectId('65ec3171c7508c3663498d25'), ObjectId('65ec3171c7508c3663498d26'), ObjectId('65ec3171c7508c3663498d27'), ObjectId('65ec3171c7508c3663498d28'), ObjectId('65ec3171c7508c3663498d29'), ObjectId('65ec3171c7508c3663498d2a'), ObjectId('65ec3171c7508c3663498d2b'), ObjectId('65ec3171c7508c3663498d2c'), ObjectId('65ec3171c7508c3663498d2d'), ObjectId('65ec3171c7508c3663498d2e'), ObjectId('65ec3171c7508c3663498d2f'), ObjectId('65ec3171c7508c3663498d30'), ObjectId('65ec3171c7508c3663498d31'), ObjectId('65ec3171c7508c3663498d32'), ObjectId('65ec3171c7508c3663498d33'), ObjectId('65ec3171c7508c3663498d34'), ObjectId('65ec3171c7508c3663498d35'), ObjectId('65ec3171c7508c3663498d36'), ObjectId('65ec3171c7508c3663498d37'), ObjectId('65ec3171c7508c3663498d38'), ObjectId('65ec3171c7508c3663498d39'), ObjectId('65ec3171c7508c3663498d3a'), ObjectId('65ec3171c7508c3663498d3b'), ObjectId('65ec3171c7508c3663498d3c'), ObjectId('65ec3171c7508c3663498d3d'), ObjectId('65ec3171c7508c3663498d3e'), ObjectId('65ec3171c7508c3663498d3f'), ObjectId('65ec3171c7508c3663498d40'), ObjectId('65ec3171c7508c3663498d41'), ObjectId('65ec3171c7508c3663498d42'), ObjectId('65ec3171c7508c3663498d43'), ObjectId('65ec3171c7508c3663498d44'), ObjectId('65ec3171c7508c3663498d45'), ObjectId('65ec3171c7508c3663498d46'), ObjectId('65ec3171c7508c3663498d47'), ObjectId('65ec3171c7508c3663498d48'), ObjectId('65ec3171c7508c3663498d49'), ObjectId('65ec3171c7508c3663498d4a'), ObjectId('65ec3171c7508c3663498d4b'), ObjectId('65ec3171c7508c3663498d4c'), ObjectId('65ec3171c7508c3663498d4d'), ObjectId('65ec3171c7508c3663498d4e'), ObjectId('65ec3171c7508c3663498d4f'), ObjectId('65ec3171c7508c3663498d50'), ObjectId('65ec3171c7508c3663498d51'), ObjectId('65ec3171c7508c3663498d52'), ObjectId('65ec3171c7508c3663498d53'), ObjectId('65ec3171c7508c3663498d54'), ObjectId('65ec3171c7508c3663498d55'), ObjectId('65ec3171c7508c3663498d56'), ObjectId('65ec3171c7508c3663498d57'), ObjectId('65ec3171c7508c3663498d58'), ObjectId('65ec3171c7508c3663498d59'), ObjectId('65ec3171c7508c3663498d5a'), ObjectId('65ec3171c7508c3663498d5b'), ObjectId('65ec3171c7508c3663498d5c'), ObjectId('65ec3171c7508c3663498d5d'), ObjectId('65ec3171c7508c3663498d5e'), ObjectId('65ec3171c7508c3663498d5f'), ObjectId('65ec3171c7508c3663498d60'), ObjectId('65ec3171c7508c3663498d61'), ObjectId('65ec3171c7508c3663498d62'), ObjectId('65ec3171c7508c3663498d63'), ObjectId('65ec3171c7508c3663498d64'), ObjectId('65ec3171c7508c3663498d65'), ObjectId('65ec3171c7508c3663498d66'), ObjectId('65ec3171c7508c3663498d67'), ObjectId('65ec3171c7508c3663498d68'), ObjectId('65ec3171c7508c3663498d69'), ObjectId('65ec3171c7508c3663498d6a'), ObjectId('65ec3171c7508c3663498d6b'), ObjectId('65ec3171c7508c3663498d6c'), ObjectId('65ec3171c7508c3663498d6d'), ObjectId('65ec3171c7508c3663498d6e'), ObjectId('65ec3171c7508c3663498d6f'), ObjectId('65ec3171c7508c3663498d70'), ObjectId('65ec3171c7508c3663498d71'), ObjectId('65ec3171c7508c3663498d72'), ObjectId('65ec3171c7508c3663498d73'), ObjectId('65ec3171c7508c3663498d74'), ObjectId('65ec3171c7508c3663498d75'), ObjectId('65ec3171c7508c3663498d76'), ObjectId('65ec3171c7508c3663498d77'), ObjectId('65ec3171c7508c3663498d78'), ObjectId('65ec3171c7508c3663498d79'), ObjectId('65ec3171c7508c3663498d7a'), ObjectId('65ec3171c7508c3663498d7b'), ObjectId('65ec3171c7508c3663498d7c'), ObjectId('65ec3171c7508c3663498d7d'), ObjectId('65ec3171c7508c3663498d7e'), ObjectId('65ec3171c7508c3663498d7f'), ObjectId('65ec3171c7508c3663498d80'), ObjectId('65ec3171c7508c3663498d81'), ObjectId('65ec3171c7508c3663498d82'), ObjectId('65ec3171c7508c3663498d83'), ObjectId('65ec3171c7508c3663498d84'), ObjectId('65ec3171c7508c3663498d85'), ObjectId('65ec3171c7508c3663498d86'), ObjectId('65ec3171c7508c3663498d87'), ObjectId('65ec3171c7508c3663498d88'), ObjectId('65ec3171c7508c3663498d89'), ObjectId('65ec3171c7508c3663498d8a'), ObjectId('65ec3171c7508c3663498d8b'), ObjectId('65ec3171c7508c3663498d8c'), ObjectId('65ec3171c7508c3663498d8d'), ObjectId('65ec3171c7508c3663498d8e'), ObjectId('65ec3171c7508c3663498d8f'), ObjectId('65ec3171c7508c3663498d90'), ObjectId('65ec3171c7508c3663498d91'), ObjectId('65ec3171c7508c3663498d92'), ObjectId('65ec3171c7508c3663498d93'), ObjectId('65ec3171c7508c3663498d94'), ObjectId('65ec3171c7508c3663498d95'), ObjectId('65ec3171c7508c3663498d96'), ObjectId('65ec3171c7508c3663498d97'), ObjectId('65ec3171c7508c3663498d98'), ObjectId('65ec3171c7508c3663498d99'), ObjectId('65ec3171c7508c3663498d9a'), ObjectId('65ec3171c7508c3663498d9b'), ObjectId('65ec3171c7508c3663498d9c'), ObjectId('65ec3171c7508c3663498d9d'), ObjectId('65ec3171c7508c3663498d9e'), ObjectId('65ec3171c7508c3663498d9f'), ObjectId('65ec3171c7508c3663498da0'), ObjectId('65ec3171c7508c3663498da1'), ObjectId('65ec3171c7508c3663498da2'), ObjectId('65ec3171c7508c3663498da3'), ObjectId('65ec3171c7508c3663498da4'), ObjectId('65ec3171c7508c3663498da5'), ObjectId('65ec3171c7508c3663498da6'), ObjectId('65ec3171c7508c3663498da7'), ObjectId('65ec3171c7508c3663498da8'), ObjectId('65ec3171c7508c3663498da9'), ObjectId('65ec3171c7508c3663498daa'), ObjectId('65ec3171c7508c3663498dab'), ObjectId('65ec3171c7508c3663498dac'), ObjectId('65ec3171c7508c3663498dad'), ObjectId('65ec3171c7508c3663498dae'), ObjectId('65ec3171c7508c3663498daf'), ObjectId('65ec3171c7508c3663498db0'), ObjectId('65ec3171c7508c3663498db1'), ObjectId('65ec3171c7508c3663498db2'), ObjectId('65ec3171c7508c3663498db3'), ObjectId('65ec3171c7508c3663498db4'), ObjectId('65ec3171c7508c3663498db5'), ObjectId('65ec3171c7508c3663498db6'), ObjectId('65ec3171c7508c3663498db7'), ObjectId('65ec3171c7508c3663498db8'), ObjectId('65ec3171c7508c3663498db9'), ObjectId('65ec3171c7508c3663498dba'), ObjectId('65ec3171c7508c3663498dbb'), ObjectId('65ec3171c7508c3663498dbc'), ObjectId('65ec3171c7508c3663498dbd'), ObjectId('65ec3171c7508c3663498dbe'), ObjectId('65ec3171c7508c3663498dbf'), ObjectId('65ec3171c7508c3663498dc0'), ObjectId('65ec3171c7508c3663498dc1'), ObjectId('65ec3171c7508c3663498dc2'), ObjectId('65ec3171c7508c3663498dc3'), ObjectId('65ec3171c7508c3663498dc4'), ObjectId('65ec3171c7508c3663498dc5'), ObjectId('65ec3171c7508c3663498dc6'), ObjectId('65ec3171c7508c3663498dc7'), ObjectId('65ec3171c7508c3663498dc8'), ObjectId('65ec3171c7508c3663498dc9'), ObjectId('65ec3171c7508c3663498dca'), ObjectId('65ec3171c7508c3663498dcb'), ObjectId('65ec3171c7508c3663498dcc'), ObjectId('65ec3171c7508c3663498dcd'), ObjectId('65ec3171c7508c3663498dce'), ObjectId('65ec3171c7508c3663498dcf'), ObjectId('65ec3171c7508c3663498dd0'), ObjectId('65ec3171c7508c3663498dd1'), ObjectId('65ec3171c7508c3663498dd2'), ObjectId('65ec3171c7508c3663498dd3'), ObjectId('65ec3171c7508c3663498dd4'), ObjectId('65ec3171c7508c3663498dd5'), ObjectId('65ec3171c7508c3663498dd6'), ObjectId('65ec3171c7508c3663498dd7'), ObjectId('65ec3171c7508c3663498dd8'), ObjectId('65ec3171c7508c3663498dd9'), ObjectId('65ec3171c7508c3663498dda'), ObjectId('65ec3171c7508c3663498ddb'), ObjectId('65ec3171c7508c3663498ddc'), ObjectId('65ec3171c7508c3663498ddd'), ObjectId('65ec3171c7508c3663498dde'), ObjectId('65ec3171c7508c3663498ddf'), ObjectId('65ec3171c7508c3663498de0'), ObjectId('65ec3171c7508c3663498de1'), ObjectId('65ec3171c7508c3663498de2'), ObjectId('65ec3171c7508c3663498de3'), ObjectId('65ec3171c7508c3663498de4'), ObjectId('65ec3171c7508c3663498de5'), ObjectId('65ec3171c7508c3663498de6'), ObjectId('65ec3171c7508c3663498de7'), ObjectId('65ec3171c7508c3663498de8'), ObjectId('65ec3171c7508c3663498de9'), ObjectId('65ec3171c7508c3663498dea'), ObjectId('65ec3171c7508c3663498deb'), ObjectId('65ec3171c7508c3663498dec'), ObjectId('65ec3171c7508c3663498ded'), ObjectId('65ec3171c7508c3663498dee'), ObjectId('65ec3171c7508c3663498def'), ObjectId('65ec3171c7508c3663498df0'), ObjectId('65ec3171c7508c3663498df1'), ObjectId('65ec3171c7508c3663498df2'), ObjectId('65ec3171c7508c3663498df3'), ObjectId('65ec3171c7508c3663498df4'), ObjectId('65ec3171c7508c3663498df5'), ObjectId('65ec3171c7508c3663498df6'), ObjectId('65ec3171c7508c3663498df7'), ObjectId('65ec3171c7508c3663498df8'), ObjectId('65ec3171c7508c3663498df9'), ObjectId('65ec3171c7508c3663498dfa'), ObjectId('65ec3171c7508c3663498dfb'), ObjectId('65ec3171c7508c3663498dfc'), ObjectId('65ec3171c7508c3663498dfd'), ObjectId('65ec3171c7508c3663498dfe'), ObjectId('65ec3171c7508c3663498dff'), ObjectId('65ec3171c7508c3663498e00'), ObjectId('65ec3171c7508c3663498e01'), ObjectId('65ec3171c7508c3663498e02'), ObjectId('65ec3171c7508c3663498e03'), ObjectId('65ec3171c7508c3663498e04'), ObjectId('65ec3171c7508c3663498e05'), ObjectId('65ec3171c7508c3663498e06'), ObjectId('65ec3171c7508c3663498e07'), ObjectId('65ec3171c7508c3663498e08'), ObjectId('65ec3171c7508c3663498e09'), ObjectId('65ec3171c7508c3663498e0a'), ObjectId('65ec3171c7508c3663498e0b'), ObjectId('65ec3171c7508c3663498e0c'), ObjectId('65ec3171c7508c3663498e0d'), ObjectId('65ec3171c7508c3663498e0e'), ObjectId('65ec3171c7508c3663498e0f'), ObjectId('65ec3171c7508c3663498e10'), ObjectId('65ec3171c7508c3663498e11'), ObjectId('65ec3171c7508c3663498e12'), ObjectId('65ec3171c7508c3663498e13'), ObjectId('65ec3171c7508c3663498e14'), ObjectId('65ec3171c7508c3663498e15'), ObjectId('65ec3171c7508c3663498e16'), ObjectId('65ec3171c7508c3663498e17'), ObjectId('65ec3171c7508c3663498e18'), ObjectId('65ec3171c7508c3663498e19'), ObjectId('65ec3171c7508c3663498e1a'), ObjectId('65ec3171c7508c3663498e1b'), ObjectId('65ec3171c7508c3663498e1c'), ObjectId('65ec3171c7508c3663498e1d'), ObjectId('65ec3171c7508c3663498e1e'), ObjectId('65ec3171c7508c3663498e1f'), ObjectId('65ec3171c7508c3663498e20'), ObjectId('65ec3171c7508c3663498e21'), ObjectId('65ec3171c7508c3663498e22'), ObjectId('65ec3171c7508c3663498e23'), ObjectId('65ec3171c7508c3663498e24'), ObjectId('65ec3171c7508c3663498e25'), ObjectId('65ec3171c7508c3663498e26'), ObjectId('65ec3171c7508c3663498e27'), ObjectId('65ec3171c7508c3663498e28'), ObjectId('65ec3171c7508c3663498e29'), ObjectId('65ec3171c7508c3663498e2a'), ObjectId('65ec3171c7508c3663498e2b'), ObjectId('65ec3171c7508c3663498e2c'), ObjectId('65ec3171c7508c3663498e2d'), ObjectId('65ec3171c7508c3663498e2e'), ObjectId('65ec3171c7508c3663498e2f'), ObjectId('65ec3171c7508c3663498e30'), ObjectId('65ec3171c7508c3663498e31'), ObjectId('65ec3171c7508c3663498e32'), ObjectId('65ec3171c7508c3663498e33'), ObjectId('65ec3171c7508c3663498e34'), ObjectId('65ec3171c7508c3663498e35'), ObjectId('65ec3171c7508c3663498e36'), ObjectId('65ec3171c7508c3663498e37'), ObjectId('65ec3171c7508c3663498e38'), ObjectId('65ec3171c7508c3663498e39'), ObjectId('65ec3171c7508c3663498e3a'), ObjectId('65ec3171c7508c3663498e3b'), ObjectId('65ec3171c7508c3663498e3c'), ObjectId('65ec3171c7508c3663498e3d'), ObjectId('65ec3171c7508c3663498e3e'), ObjectId('65ec3171c7508c3663498e3f'), ObjectId('65ec3171c7508c3663498e40'), ObjectId('65ec3171c7508c3663498e41'), ObjectId('65ec3171c7508c3663498e42'), ObjectId('65ec3171c7508c3663498e43'), ObjectId('65ec3171c7508c3663498e44'), ObjectId('65ec3171c7508c3663498e45'), ObjectId('65ec3171c7508c3663498e46'), ObjectId('65ec3171c7508c3663498e47'), ObjectId('65ec3171c7508c3663498e48'), ObjectId('65ec3171c7508c3663498e49'), ObjectId('65ec3171c7508c3663498e4a'), ObjectId('65ec3171c7508c3663498e4b'), ObjectId('65ec3171c7508c3663498e4c'), ObjectId('65ec3171c7508c3663498e4d'), ObjectId('65ec3171c7508c3663498e4e'), ObjectId('65ec3171c7508c3663498e4f'), ObjectId('65ec3171c7508c3663498e50'), ObjectId('65ec3171c7508c3663498e51'), ObjectId('65ec3171c7508c3663498e52'), ObjectId('65ec3171c7508c3663498e53'), ObjectId('65ec3171c7508c3663498e54'), ObjectId('65ec3171c7508c3663498e55'), ObjectId('65ec3171c7508c3663498e56'), ObjectId('65ec3171c7508c3663498e57'), ObjectId('65ec3171c7508c3663498e58'), ObjectId('65ec3171c7508c3663498e59'), ObjectId('65ec3171c7508c3663498e5a'), ObjectId('65ec3171c7508c3663498e5b'), ObjectId('65ec3171c7508c3663498e5c'), ObjectId('65ec3171c7508c3663498e5d'), ObjectId('65ec3171c7508c3663498e5e'), ObjectId('65ec3171c7508c3663498e5f'), ObjectId('65ec3171c7508c3663498e60'), ObjectId('65ec3171c7508c3663498e61'), ObjectId('65ec3171c7508c3663498e62'), ObjectId('65ec3171c7508c3663498e63'), ObjectId('65ec3171c7508c3663498e64'), ObjectId('65ec3171c7508c3663498e65'), ObjectId('65ec3171c7508c3663498e66'), ObjectId('65ec3171c7508c3663498e67'), ObjectId('65ec3171c7508c3663498e68'), ObjectId('65ec3171c7508c3663498e69'), ObjectId('65ec3171c7508c3663498e6a'), ObjectId('65ec3171c7508c3663498e6b'), ObjectId('65ec3171c7508c3663498e6c'), ObjectId('65ec3171c7508c3663498e6d'), ObjectId('65ec3171c7508c3663498e6e'), ObjectId('65ec3171c7508c3663498e6f'), ObjectId('65ec3171c7508c3663498e70'), ObjectId('65ec3171c7508c3663498e71'), ObjectId('65ec3171c7508c3663498e72'), ObjectId('65ec3171c7508c3663498e73'), ObjectId('65ec3171c7508c3663498e74'), ObjectId('65ec3171c7508c3663498e75'), ObjectId('65ec3171c7508c3663498e76'), ObjectId('65ec3171c7508c3663498e77'), ObjectId('65ec3171c7508c3663498e78'), ObjectId('65ec3171c7508c3663498e79'), ObjectId('65ec3171c7508c3663498e7a'), ObjectId('65ec3171c7508c3663498e7b'), ObjectId('65ec3171c7508c3663498e7c'), ObjectId('65ec3171c7508c3663498e7d'), ObjectId('65ec3171c7508c3663498e7e'), ObjectId('65ec3171c7508c3663498e7f'), ObjectId('65ec3171c7508c3663498e80'), ObjectId('65ec3171c7508c3663498e81'), ObjectId('65ec3171c7508c3663498e82'), ObjectId('65ec3171c7508c3663498e83'), ObjectId('65ec3171c7508c3663498e84'), ObjectId('65ec3171c7508c3663498e85'), ObjectId('65ec3171c7508c3663498e86'), ObjectId('65ec3171c7508c3663498e87'), ObjectId('65ec3171c7508c3663498e88'), ObjectId('65ec3171c7508c3663498e89'), ObjectId('65ec3171c7508c3663498e8a'), ObjectId('65ec3171c7508c3663498e8b'), ObjectId('65ec3171c7508c3663498e8c'), ObjectId('65ec3171c7508c3663498e8d'), ObjectId('65ec3171c7508c3663498e8e'), ObjectId('65ec3171c7508c3663498e8f'), ObjectId('65ec3171c7508c3663498e90'), ObjectId('65ec3171c7508c3663498e91'), ObjectId('65ec3171c7508c3663498e92'), ObjectId('65ec3171c7508c3663498e93'), ObjectId('65ec3171c7508c3663498e94'), ObjectId('65ec3171c7508c3663498e95'), ObjectId('65ec3171c7508c3663498e96'), ObjectId('65ec3171c7508c3663498e97'), ObjectId('65ec3171c7508c3663498e98'), ObjectId('65ec3171c7508c3663498e99'), ObjectId('65ec3171c7508c3663498e9a'), ObjectId('65ec3171c7508c3663498e9b'), ObjectId('65ec3171c7508c3663498e9c'), ObjectId('65ec3171c7508c3663498e9d'), ObjectId('65ec3171c7508c3663498e9e'), ObjectId('65ec3171c7508c3663498e9f'), ObjectId('65ec3171c7508c3663498ea0'), ObjectId('65ec3171c7508c3663498ea1'), ObjectId('65ec3171c7508c3663498ea2'), ObjectId('65ec3171c7508c3663498ea3'), ObjectId('65ec3171c7508c3663498ea4'), ObjectId('65ec3171c7508c3663498ea5'), ObjectId('65ec3171c7508c3663498ea6'), ObjectId('65ec3171c7508c3663498ea7'), ObjectId('65ec3171c7508c3663498ea8'), ObjectId('65ec3171c7508c3663498ea9'), ObjectId('65ec3171c7508c3663498eaa'), ObjectId('65ec3171c7508c3663498eab'), ObjectId('65ec3171c7508c3663498eac'), ObjectId('65ec3171c7508c3663498ead'), ObjectId('65ec3171c7508c3663498eae'), ObjectId('65ec3171c7508c3663498eaf'), ObjectId('65ec3171c7508c3663498eb0'), ObjectId('65ec3171c7508c3663498eb1'), ObjectId('65ec3171c7508c3663498eb2'), ObjectId('65ec3171c7508c3663498eb3'), ObjectId('65ec3171c7508c3663498eb4'), ObjectId('65ec3171c7508c3663498eb5'), ObjectId('65ec3171c7508c3663498eb6'), ObjectId('65ec3171c7508c3663498eb7'), ObjectId('65ec3171c7508c3663498eb8'), ObjectId('65ec3171c7508c3663498eb9'), ObjectId('65ec3171c7508c3663498eba'), ObjectId('65ec3171c7508c3663498ebb'), ObjectId('65ec3171c7508c3663498ebc'), ObjectId('65ec3171c7508c3663498ebd'), ObjectId('65ec3171c7508c3663498ebe'), ObjectId('65ec3171c7508c3663498ebf'), ObjectId('65ec3171c7508c3663498ec0'), ObjectId('65ec3171c7508c3663498ec1'), ObjectId('65ec3171c7508c3663498ec2'), ObjectId('65ec3171c7508c3663498ec3'), ObjectId('65ec3171c7508c3663498ec4'), ObjectId('65ec3171c7508c3663498ec5'), ObjectId('65ec3171c7508c3663498ec6'), ObjectId('65ec3171c7508c3663498ec7'), ObjectId('65ec3171c7508c3663498ec8'), ObjectId('65ec3171c7508c3663498ec9'), ObjectId('65ec3171c7508c3663498eca'), ObjectId('65ec3171c7508c3663498ecb'), ObjectId('65ec3171c7508c3663498ecc'), ObjectId('65ec3171c7508c3663498ecd'), ObjectId('65ec3171c7508c3663498ece'), ObjectId('65ec3171c7508c3663498ecf'), ObjectId('65ec3171c7508c3663498ed0'), ObjectId('65ec3171c7508c3663498ed1'), ObjectId('65ec3171c7508c3663498ed2'), ObjectId('65ec3171c7508c3663498ed3'), ObjectId('65ec3171c7508c3663498ed4'), ObjectId('65ec3171c7508c3663498ed5'), ObjectId('65ec3171c7508c3663498ed6'), ObjectId('65ec3171c7508c3663498ed7'), ObjectId('65ec3171c7508c3663498ed8'), ObjectId('65ec3171c7508c3663498ed9'), ObjectId('65ec3171c7508c3663498eda'), ObjectId('65ec3171c7508c3663498edb'), ObjectId('65ec3171c7508c3663498edc'), ObjectId('65ec3171c7508c3663498edd'), ObjectId('65ec3171c7508c3663498ede'), ObjectId('65ec3171c7508c3663498edf'), ObjectId('65ec3171c7508c3663498ee0'), ObjectId('65ec3171c7508c3663498ee1'), ObjectId('65ec3171c7508c3663498ee2'), ObjectId('65ec3171c7508c3663498ee3'), ObjectId('65ec3171c7508c3663498ee4'), ObjectId('65ec3171c7508c3663498ee5'), ObjectId('65ec3171c7508c3663498ee6'), ObjectId('65ec3171c7508c3663498ee7'), ObjectId('65ec3171c7508c3663498ee8'), ObjectId('65ec3171c7508c3663498ee9'), ObjectId('65ec3171c7508c3663498eea'), ObjectId('65ec3171c7508c3663498eeb'), ObjectId('65ec3171c7508c3663498eec'), ObjectId('65ec3171c7508c3663498eed'), ObjectId('65ec3171c7508c3663498eee'), ObjectId('65ec3171c7508c3663498eef'), ObjectId('65ec3171c7508c3663498ef0'), ObjectId('65ec3171c7508c3663498ef1'), ObjectId('65ec3171c7508c3663498ef2'), ObjectId('65ec3171c7508c3663498ef3'), ObjectId('65ec3171c7508c3663498ef4'), ObjectId('65ec3171c7508c3663498ef5'), ObjectId('65ec3171c7508c3663498ef6'), ObjectId('65ec3171c7508c3663498ef7'), ObjectId('65ec3171c7508c3663498ef8'), ObjectId('65ec3171c7508c3663498ef9'), ObjectId('65ec3171c7508c3663498efa'), ObjectId('65ec3171c7508c3663498efb'), ObjectId('65ec3171c7508c3663498efc'), ObjectId('65ec3171c7508c3663498efd'), ObjectId('65ec3171c7508c3663498efe'), ObjectId('65ec3171c7508c3663498eff'), ObjectId('65ec3171c7508c3663498f00'), ObjectId('65ec3171c7508c3663498f01'), ObjectId('65ec3171c7508c3663498f02'), ObjectId('65ec3171c7508c3663498f03'), ObjectId('65ec3171c7508c3663498f04'), ObjectId('65ec3171c7508c3663498f05'), ObjectId('65ec3171c7508c3663498f06'), ObjectId('65ec3171c7508c3663498f07'), ObjectId('65ec3171c7508c3663498f08'), ObjectId('65ec3171c7508c3663498f09'), ObjectId('65ec3171c7508c3663498f0a'), ObjectId('65ec3171c7508c3663498f0b'), ObjectId('65ec3171c7508c3663498f0c'), ObjectId('65ec3171c7508c3663498f0d'), ObjectId('65ec3171c7508c3663498f0e'), ObjectId('65ec3171c7508c3663498f0f'), ObjectId('65ec3171c7508c3663498f10'), ObjectId('65ec3171c7508c3663498f11'), ObjectId('65ec3171c7508c3663498f12'), ObjectId('65ec3171c7508c3663498f13'), ObjectId('65ec3171c7508c3663498f14'), ObjectId('65ec3171c7508c3663498f15'), ObjectId('65ec3171c7508c3663498f16'), ObjectId('65ec3171c7508c3663498f17'), ObjectId('65ec3171c7508c3663498f18'), ObjectId('65ec3171c7508c3663498f19'), ObjectId('65ec3171c7508c3663498f1a'), ObjectId('65ec3171c7508c3663498f1b'), ObjectId('65ec3171c7508c3663498f1c'), ObjectId('65ec3171c7508c3663498f1d'), ObjectId('65ec3171c7508c3663498f1e'), ObjectId('65ec3171c7508c3663498f1f'), ObjectId('65ec3171c7508c3663498f20'), ObjectId('65ec3171c7508c3663498f21'), ObjectId('65ec3171c7508c3663498f22'), ObjectId('65ec3171c7508c3663498f23'), ObjectId('65ec3171c7508c3663498f24'), ObjectId('65ec3171c7508c3663498f25'), ObjectId('65ec3171c7508c3663498f26'), ObjectId('65ec3171c7508c3663498f27'), ObjectId('65ec3171c7508c3663498f28'), ObjectId('65ec3171c7508c3663498f29'), ObjectId('65ec3171c7508c3663498f2a'), ObjectId('65ec3171c7508c3663498f2b'), ObjectId('65ec3171c7508c3663498f2c'), ObjectId('65ec3171c7508c3663498f2d'), ObjectId('65ec3171c7508c3663498f2e'), ObjectId('65ec3171c7508c3663498f2f'), ObjectId('65ec3171c7508c3663498f30'), ObjectId('65ec3171c7508c3663498f31'), ObjectId('65ec3171c7508c3663498f32'), ObjectId('65ec3171c7508c3663498f33'), ObjectId('65ec3171c7508c3663498f34'), ObjectId('65ec3171c7508c3663498f35'), ObjectId('65ec3171c7508c3663498f36'), ObjectId('65ec3171c7508c3663498f37'), ObjectId('65ec3171c7508c3663498f38'), ObjectId('65ec3171c7508c3663498f39'), ObjectId('65ec3171c7508c3663498f3a'), ObjectId('65ec3171c7508c3663498f3b'), ObjectId('65ec3171c7508c3663498f3c'), ObjectId('65ec3171c7508c3663498f3d'), ObjectId('65ec3171c7508c3663498f3e'), ObjectId('65ec3171c7508c3663498f3f'), ObjectId('65ec3171c7508c3663498f40'), ObjectId('65ec3171c7508c3663498f41'), ObjectId('65ec3171c7508c3663498f42'), ObjectId('65ec3171c7508c3663498f43'), ObjectId('65ec3171c7508c3663498f44'), ObjectId('65ec3171c7508c3663498f45'), ObjectId('65ec3171c7508c3663498f46'), ObjectId('65ec3171c7508c3663498f47'), ObjectId('65ec3171c7508c3663498f48'), ObjectId('65ec3171c7508c3663498f49'), ObjectId('65ec3171c7508c3663498f4a'), ObjectId('65ec3171c7508c3663498f4b'), ObjectId('65ec3171c7508c3663498f4c'), ObjectId('65ec3171c7508c3663498f4d'), ObjectId('65ec3171c7508c3663498f4e'), ObjectId('65ec3171c7508c3663498f4f'), ObjectId('65ec3171c7508c3663498f50'), ObjectId('65ec3171c7508c3663498f51'), ObjectId('65ec3171c7508c3663498f52'), ObjectId('65ec3171c7508c3663498f53'), ObjectId('65ec3171c7508c3663498f54'), ObjectId('65ec3171c7508c3663498f55'), ObjectId('65ec3171c7508c3663498f56'), ObjectId('65ec3171c7508c3663498f57'), ObjectId('65ec3171c7508c3663498f58'), ObjectId('65ec3171c7508c3663498f59'), ObjectId('65ec3171c7508c3663498f5a'), ObjectId('65ec3171c7508c3663498f5b'), ObjectId('65ec3171c7508c3663498f5c'), ObjectId('65ec3171c7508c3663498f5d'), ObjectId('65ec3171c7508c3663498f5e'), ObjectId('65ec3171c7508c3663498f5f'), ObjectId('65ec3171c7508c3663498f60'), ObjectId('65ec3171c7508c3663498f61'), ObjectId('65ec3171c7508c3663498f62'), ObjectId('65ec3171c7508c3663498f63'), ObjectId('65ec3171c7508c3663498f64'), ObjectId('65ec3171c7508c3663498f65'), ObjectId('65ec3171c7508c3663498f66'), ObjectId('65ec3171c7508c3663498f67'), ObjectId('65ec3171c7508c3663498f68'), ObjectId('65ec3171c7508c3663498f69'), ObjectId('65ec3171c7508c3663498f6a'), ObjectId('65ec3171c7508c3663498f6b'), ObjectId('65ec3171c7508c3663498f6c'), ObjectId('65ec3171c7508c3663498f6d'), ObjectId('65ec3171c7508c3663498f6e'), ObjectId('65ec3171c7508c3663498f6f'), ObjectId('65ec3171c7508c3663498f70'), ObjectId('65ec3171c7508c3663498f71'), ObjectId('65ec3171c7508c3663498f72'), ObjectId('65ec3171c7508c3663498f73'), ObjectId('65ec3171c7508c3663498f74'), ObjectId('65ec3171c7508c3663498f75'), ObjectId('65ec3171c7508c3663498f76'), ObjectId('65ec3171c7508c3663498f77'), ObjectId('65ec3171c7508c3663498f78'), ObjectId('65ec3171c7508c3663498f79'), ObjectId('65ec3171c7508c3663498f7a'), ObjectId('65ec3171c7508c3663498f7b'), ObjectId('65ec3171c7508c3663498f7c'), ObjectId('65ec3171c7508c3663498f7d'), ObjectId('65ec3171c7508c3663498f7e'), ObjectId('65ec3171c7508c3663498f7f'), ObjectId('65ec3171c7508c3663498f80'), ObjectId('65ec3171c7508c3663498f81'), ObjectId('65ec3171c7508c3663498f82'), ObjectId('65ec3171c7508c3663498f83'), ObjectId('65ec3171c7508c3663498f84')], acknowledged=True)"
      ]
     },
     "execution_count": 78,
     "metadata": {},
     "output_type": "execute_result"
    }
   ],
   "source": [
    "coll.insert_many(parsed)"
   ]
  }
 ],
 "metadata": {
  "kernelspec": {
   "display_name": "Python 3 (ipykernel)",
   "language": "python",
   "name": "python3"
  },
  "language_info": {
   "codemirror_mode": {
    "name": "ipython",
    "version": 3
   },
   "file_extension": ".py",
   "mimetype": "text/x-python",
   "name": "python",
   "nbconvert_exporter": "python",
   "pygments_lexer": "ipython3",
   "version": "3.11.5"
  }
 },
 "nbformat": 4,
 "nbformat_minor": 5
}
